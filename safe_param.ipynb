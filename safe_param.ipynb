{
 "cells": [
  {
   "cell_type": "code",
   "execution_count": 1,
   "metadata": {
    "collapsed": true
   },
   "outputs": [],
   "source": [
    "from functools import wraps\n",
    "from inspect import signature\n",
    "\n",
    "    \n",
    "def param_info(func):\n",
    "    sig = signature(func)\n",
    "    for param in sig.parameters.values():\n",
    "        print(param.name)\n",
    "        print(' -', param.default)\n",
    "        print(' -', param.kind)\n",
    "\n",
    "\n",
    "def safe_param(func):\n",
    "    ok_args = False\n",
    "    ok_kwargs = False\n",
    "    \n",
    "    list_params = []\n",
    "    keyword_params = set()\n",
    "    \n",
    "    sig = signature(func)\n",
    "    for param in sig.parameters.values():\n",
    "        if param.kind == param.VAR_POSITIONAL:\n",
    "            ok_args = True\n",
    "        if param.kind == param.VAR_KEYWORD:\n",
    "            ok_kwargs = True\n",
    "            \n",
    "        if param.kind in [param.POSITIONAL_OR_KEYWORD]:\n",
    "            list_params.append(param.name)\n",
    "        if param.kind in [param.POSITIONAL_OR_KEYWORD, param.KEYWORD_ONLY]:\n",
    "            keyword_params.add(param.name)\n",
    "            \n",
    "    def get_default_value(param_name):\n",
    "        original = sig.parameters[param_name]\n",
    "        no_default = original.default is original.empty\n",
    "        return None if original.default is original.empty else original.default\n",
    "            \n",
    "    @wraps(func)\n",
    "    def wrap(*args, **kwargs):\n",
    "        if not ok_args:\n",
    "            args = args[:len(list_params)]\n",
    "        \n",
    "        if not ok_kwargs:\n",
    "            temp = {k: v for k, v in kwargs.items() if k in keyword_params}\n",
    "            kwargs = temp\n",
    "        \n",
    "        if len(args) < len(list_params):\n",
    "            not_set_list_params = list_params[len(args):]\n",
    "            for param in not_set_list_params:\n",
    "                if param in kwargs:\n",
    "                    continue\n",
    "                    \n",
    "                kwargs[param] = get_default_value(param)\n",
    "        \n",
    "        not_set_keyword_params = keyword_params - set(list_params) - set(kwargs.keys())\n",
    "        for param in not_set_keyword_params:\n",
    "            kwargs[param] = get_default_value(param)\n",
    "        \n",
    "        return func(*args, **kwargs)\n",
    "    return wrap"
   ]
  },
  {
   "cell_type": "code",
   "execution_count": 2,
   "metadata": {
    "collapsed": false
   },
   "outputs": [
    {
     "name": "stdout",
     "output_type": "stream",
     "text": [
      "<sample>\n",
      "a\n",
      " - <class 'inspect._empty'>\n",
      " - POSITIONAL_OR_KEYWORD\n",
      "b\n",
      " - <class 'inspect._empty'>\n",
      " - POSITIONAL_OR_KEYWORD\n",
      "args\n",
      " - <class 'inspect._empty'>\n",
      " - VAR_POSITIONAL\n",
      "c\n",
      " - <class 'inspect._empty'>\n",
      " - KEYWORD_ONLY\n",
      "kwargs\n",
      " - <class 'inspect._empty'>\n",
      " - VAR_KEYWORD\n",
      "\n",
      "<safe_sample>\n",
      "a\n",
      " - <class 'inspect._empty'>\n",
      " - POSITIONAL_OR_KEYWORD\n",
      "b\n",
      " - <class 'inspect._empty'>\n",
      " - POSITIONAL_OR_KEYWORD\n",
      "args\n",
      " - <class 'inspect._empty'>\n",
      " - VAR_POSITIONAL\n",
      "c\n",
      " - <class 'inspect._empty'>\n",
      " - KEYWORD_ONLY\n",
      "kwargs\n",
      " - <class 'inspect._empty'>\n",
      " - VAR_KEYWORD\n"
     ]
    }
   ],
   "source": [
    "def sample(a, b, *args, c, **kwargs):\n",
    "    print('a', a)\n",
    "    print('b', b)\n",
    "    print('c', c)\n",
    "    print('args', args)\n",
    "    print('kwargs', kwargs)\n",
    "    \n",
    "safe_sample = safe_param(sample)\n",
    "        \n",
    "print('<sample>')\n",
    "param_info(sample)\n",
    "print('\\n<safe_sample>')\n",
    "param_info(safe_sample)"
   ]
  },
  {
   "cell_type": "code",
   "execution_count": 3,
   "metadata": {
    "collapsed": false
   },
   "outputs": [
    {
     "name": "stdout",
     "output_type": "stream",
     "text": [
      "a 1\n",
      "b 2\n",
      "c None\n",
      "args (3, 4, 5, 6, 7)\n",
      "kwargs {'d': 10}\n"
     ]
    },
    {
     "ename": "TypeError",
     "evalue": "sample() missing 1 required keyword-only argument: 'c'",
     "output_type": "error",
     "traceback": [
      "\u001b[0;31m---------------------------------------------------------------------------\u001b[0m",
      "\u001b[0;31mTypeError\u001b[0m                                 Traceback (most recent call last)",
      "\u001b[0;32m<ipython-input-3-6ca771f8f4fa>\u001b[0m in \u001b[0;36m<module>\u001b[0;34m()\u001b[0m\n\u001b[1;32m      1\u001b[0m \u001b[0msafe_sample\u001b[0m\u001b[1;33m(\u001b[0m\u001b[1;36m1\u001b[0m\u001b[1;33m,\u001b[0m\u001b[1;36m2\u001b[0m\u001b[1;33m,\u001b[0m\u001b[1;36m3\u001b[0m\u001b[1;33m,\u001b[0m\u001b[1;36m4\u001b[0m\u001b[1;33m,\u001b[0m\u001b[1;36m5\u001b[0m\u001b[1;33m,\u001b[0m\u001b[1;36m6\u001b[0m\u001b[1;33m,\u001b[0m\u001b[1;36m7\u001b[0m\u001b[1;33m,\u001b[0m \u001b[0md\u001b[0m\u001b[1;33m=\u001b[0m\u001b[1;36m10\u001b[0m\u001b[1;33m)\u001b[0m\u001b[1;33m\u001b[0m\u001b[0m\n\u001b[0;32m----> 2\u001b[0;31m \u001b[0msample\u001b[0m\u001b[1;33m(\u001b[0m\u001b[1;36m1\u001b[0m\u001b[1;33m,\u001b[0m\u001b[1;36m2\u001b[0m\u001b[1;33m,\u001b[0m\u001b[1;36m3\u001b[0m\u001b[1;33m,\u001b[0m\u001b[1;36m4\u001b[0m\u001b[1;33m,\u001b[0m\u001b[1;36m5\u001b[0m\u001b[1;33m,\u001b[0m\u001b[1;36m6\u001b[0m\u001b[1;33m,\u001b[0m\u001b[1;36m7\u001b[0m\u001b[1;33m,\u001b[0m \u001b[0md\u001b[0m\u001b[1;33m=\u001b[0m\u001b[1;36m10\u001b[0m\u001b[1;33m)\u001b[0m\u001b[1;33m\u001b[0m\u001b[0m\n\u001b[0m",
      "\u001b[0;31mTypeError\u001b[0m: sample() missing 1 required keyword-only argument: 'c'"
     ]
    }
   ],
   "source": [
    "safe_sample(1,2,3,4,5,6,7, d=10)\n",
    "sample(1,2,3,4,5,6,7, d=10)"
   ]
  },
  {
   "cell_type": "code",
   "execution_count": 4,
   "metadata": {
    "collapsed": false
   },
   "outputs": [
    {
     "name": "stdout",
     "output_type": "stream",
     "text": [
      "a 1\n",
      "b 2\n",
      "c None\n"
     ]
    },
    {
     "ename": "TypeError",
     "evalue": "sample2() got an unexpected keyword argument 'd'",
     "output_type": "error",
     "traceback": [
      "\u001b[0;31m---------------------------------------------------------------------------\u001b[0m",
      "\u001b[0;31mTypeError\u001b[0m                                 Traceback (most recent call last)",
      "\u001b[0;32m<ipython-input-4-093ebe858918>\u001b[0m in \u001b[0;36m<module>\u001b[0;34m()\u001b[0m\n\u001b[1;32m      7\u001b[0m \u001b[1;33m\u001b[0m\u001b[0m\n\u001b[1;32m      8\u001b[0m \u001b[0msafe_sample2\u001b[0m\u001b[1;33m(\u001b[0m\u001b[1;36m1\u001b[0m\u001b[1;33m,\u001b[0m\u001b[1;36m2\u001b[0m\u001b[1;33m,\u001b[0m\u001b[1;36m3\u001b[0m\u001b[1;33m,\u001b[0m\u001b[1;36m4\u001b[0m\u001b[1;33m,\u001b[0m\u001b[1;36m5\u001b[0m\u001b[1;33m,\u001b[0m\u001b[1;36m6\u001b[0m\u001b[1;33m,\u001b[0m\u001b[1;36m7\u001b[0m\u001b[1;33m,\u001b[0m \u001b[0md\u001b[0m\u001b[1;33m=\u001b[0m\u001b[1;36m10\u001b[0m\u001b[1;33m)\u001b[0m\u001b[1;33m\u001b[0m\u001b[0m\n\u001b[0;32m----> 9\u001b[0;31m \u001b[0msample2\u001b[0m\u001b[1;33m(\u001b[0m\u001b[1;36m1\u001b[0m\u001b[1;33m,\u001b[0m\u001b[1;36m2\u001b[0m\u001b[1;33m,\u001b[0m\u001b[1;36m3\u001b[0m\u001b[1;33m,\u001b[0m\u001b[1;36m4\u001b[0m\u001b[1;33m,\u001b[0m\u001b[1;36m5\u001b[0m\u001b[1;33m,\u001b[0m\u001b[1;36m6\u001b[0m\u001b[1;33m,\u001b[0m\u001b[1;36m7\u001b[0m\u001b[1;33m,\u001b[0m \u001b[0md\u001b[0m\u001b[1;33m=\u001b[0m\u001b[1;36m10\u001b[0m\u001b[1;33m)\u001b[0m\u001b[1;33m\u001b[0m\u001b[0m\n\u001b[0m",
      "\u001b[0;31mTypeError\u001b[0m: sample2() got an unexpected keyword argument 'd'"
     ]
    }
   ],
   "source": [
    "def sample2(a, b, *, c):\n",
    "    print('a', a)\n",
    "    print('b', b)\n",
    "    print('c', c)\n",
    "    \n",
    "safe_sample2 = safe_param(sample2)\n",
    "\n",
    "safe_sample2(1,2,3,4,5,6,7, d=10)\n",
    "sample2(1,2,3,4,5,6,7, d=10)"
   ]
  },
  {
   "cell_type": "code",
   "execution_count": 7,
   "metadata": {
    "collapsed": true
   },
   "outputs": [],
   "source": [
    "def safe_param(default=None):\n",
    "    def deco(func):\n",
    "        ok_args = False\n",
    "        ok_kwargs = False\n",
    "\n",
    "        list_params = []\n",
    "        keyword_params = set()\n",
    "\n",
    "        sig = signature(func)\n",
    "        for param in sig.parameters.values():\n",
    "            if param.kind == param.VAR_POSITIONAL:\n",
    "                ok_args = True\n",
    "            if param.kind == param.VAR_KEYWORD:\n",
    "                ok_kwargs = True\n",
    "\n",
    "            if param.kind in [param.POSITIONAL_OR_KEYWORD]:\n",
    "                list_params.append(param.name)\n",
    "            if param.kind in [param.POSITIONAL_OR_KEYWORD, param.KEYWORD_ONLY]:\n",
    "                keyword_params.add(param.name)\n",
    "\n",
    "        def get_default_value(param_name):\n",
    "            original = sig.parameters[param_name]\n",
    "            no_default = original.default is original.empty\n",
    "            return default if original.default is original.empty else original.default\n",
    "\n",
    "        @wraps(func)\n",
    "        def wrap(*args, **kwargs):\n",
    "            if not ok_args:\n",
    "                args = args[:len(list_params)]\n",
    "\n",
    "            if not ok_kwargs:\n",
    "                temp = {k: v for k, v in kwargs.items() if k in keyword_params}\n",
    "                kwargs = temp\n",
    "\n",
    "            if len(args) < len(list_params):\n",
    "                not_set_list_params = list_params[len(args):]\n",
    "                for param in not_set_list_params:\n",
    "                    if param in kwargs:\n",
    "                        continue\n",
    "\n",
    "                    kwargs[param] = get_default_value(param)\n",
    "\n",
    "            not_set_keyword_params = keyword_params - set(list_params) - set(kwargs.keys())\n",
    "            for param in not_set_keyword_params:\n",
    "                kwargs[param] = get_default_value(param)\n",
    "\n",
    "            return func(*args, **kwargs)\n",
    "        return wrap\n",
    "    return deco"
   ]
  },
  {
   "cell_type": "code",
   "execution_count": 10,
   "metadata": {
    "collapsed": false
   },
   "outputs": [
    {
     "name": "stdout",
     "output_type": "stream",
     "text": [
      "a 1\n",
      "b 2\n",
      "c is default\n",
      "args (3, 4, 5, 6, 7)\n",
      "kwargs {'d': 10}\n"
     ]
    }
   ],
   "source": [
    "@safe_param('is default')\n",
    "def sample3(a, b, *args, c, **kwargs):\n",
    "    print('a', a)\n",
    "    print('b', b)\n",
    "    print('c', c)\n",
    "    print('args', args)\n",
    "    print('kwargs', kwargs)\n",
    "    \n",
    "sample3(1,2,3,4,5,6,7, d=10)"
   ]
  }
 ],
 "metadata": {
  "anaconda-cloud": {},
  "kernelspec": {
   "display_name": "Python [default]",
   "language": "python",
   "name": "python3"
  },
  "language_info": {
   "codemirror_mode": {
    "name": "ipython",
    "version": 3
   },
   "file_extension": ".py",
   "mimetype": "text/x-python",
   "name": "python",
   "nbconvert_exporter": "python",
   "pygments_lexer": "ipython3",
   "version": "3.5.2"
  }
 },
 "nbformat": 4,
 "nbformat_minor": 1
}
